{
 "cells": [
  {
   "cell_type": "markdown",
   "metadata": {},
   "source": [
    "1) Crear la clase vehículo que contenga los atributos:<br>\n",
    "Color<br>\n",
    "Si es moto, auto, camioneta ó camión<br>\n",
    "Cilindrada del motor"
   ]
  },
  {
   "cell_type": "code",
   "execution_count": 13,
   "metadata": {},
   "outputs": [],
   "source": [
    "class Vehiculos:\n",
    "    def __init__ (self,color,tipo,cilindrada): #EL INIT SI O SI ENTRE DOS GUIONES BAJOS \n",
    "        self.color = color\n",
    "        self.tipo = tipo\n",
    "        self.cilindrada = cilindrada"
   ]
  },
  {
   "cell_type": "markdown",
   "metadata": {},
   "source": [
    "2) A la clase Vehiculo creada en el punto 1, agregar los siguientes métodos:<br>\n",
    "Acelerar<br>\n",
    "Frenar<br>\n",
    "Doblar<br>\n"
   ]
  },
  {
   "cell_type": "code",
   "execution_count": 21,
   "metadata": {},
   "outputs": [],
   "source": [
    "class Vehiculos:\n",
    "    def __init__ (self,color,tipo,cilindrada): \n",
    "        self.color = color\n",
    "        self.tipo = tipo\n",
    "        self.cilindrada = cilindrada\n",
    "        self.velocidad = 0\n",
    "        self.direccion = 0    \n",
    "    \n",
    "    #AQUI ABAJO ESTAN LOS METODOS. \n",
    "\n",
    "    def acelerar (self,velocidad):\n",
    "        self.velocidad += velocidad\n",
    "    \n",
    "    def frenar (self,velocidad):\n",
    "        self.velocidad -= velocidad\n",
    "\n",
    "    def doblar (self,grados):\n",
    "        self.direccion += grados"
   ]
  },
  {
   "cell_type": "markdown",
   "metadata": {},
   "source": [
    "3) Instanciar 3 objetos de la clase vehículo y ejecutar sus métodos, probar luego el resultado\n"
   ]
  },
  {
   "cell_type": "code",
   "execution_count": 31,
   "metadata": {},
   "outputs": [],
   "source": [
    "objeto1 = Vehiculos('Azul','moto',12)\n",
    "objeto2 = Vehiculos('Gris','auto',2)\n",
    "objeto3 = Vehiculos('Blanco','camion',32)\n",
    "\n"
   ]
  },
  {
   "cell_type": "code",
   "execution_count": 23,
   "metadata": {},
   "outputs": [],
   "source": [
    "objeto1.acelerar(63)\n",
    "objeto2.frenar(20)\n",
    "objeto3.doblar(89)"
   ]
  },
  {
   "cell_type": "markdown",
   "metadata": {},
   "source": [
    "4) Agregar a la clase Vehiculo, un método que muestre su estado, es decir, a que velocidad se encuentra y su dirección. Y otro método que muestre color, tipo y cilindrada"
   ]
  },
  {
   "cell_type": "code",
   "execution_count": 29,
   "metadata": {},
   "outputs": [],
   "source": [
    "class Vehiculos:\n",
    "    def __init__ (self,color,tipo,cilindrada): \n",
    "        self.color = color\n",
    "        self.tipo = tipo\n",
    "        self.cilindrada = cilindrada\n",
    "        self.velocidad = 0\n",
    "        self.direccion = 0    \n",
    "    \n",
    "    #AQUI ABAJO ESTAN LOS METODOS. \n",
    "\n",
    "    def acelerar (self,velocidad):\n",
    "        self.velocidad += velocidad\n",
    "    \n",
    "    def frenar (self,velocidad):\n",
    "        self.velocidad -= velocidad\n",
    "\n",
    "    def doblar (self,grados):\n",
    "        self.direccion += grados\n",
    "\n",
    "    def estado (self):\n",
    "        print('Velocidad =',self.velocidad)\n",
    "        print('Direccion =',self.direccion)\n",
    "    \n",
    "    def informacion (self):\n",
    "        print('Mi',self.tipo,'es de color',self.color,'y tiene',self.cilindrada,'cilindradas')"
   ]
  },
  {
   "cell_type": "code",
   "execution_count": 35,
   "metadata": {},
   "outputs": [
    {
     "name": "stdout",
     "output_type": "stream",
     "text": [
      "Mi moto es de color Azul y tiene 12 cilindradas\n"
     ]
    }
   ],
   "source": [
    "#objeto1 = Vehiculos('Azul','moto',12)\n",
    "objeto1.informacion()"
   ]
  },
  {
   "cell_type": "code",
   "execution_count": 37,
   "metadata": {},
   "outputs": [
    {
     "name": "stdout",
     "output_type": "stream",
     "text": [
      "Velocidad = 35\n",
      "Direccion = 0\n",
      "Velocidad = 70\n",
      "Direccion = 45\n"
     ]
    }
   ],
   "source": [
    "objeto1.estado()\n",
    "objeto1.acelerar(35)\n",
    "objeto1.doblar(45)\n",
    "objeto1.estado()"
   ]
  },
  {
   "cell_type": "markdown",
   "metadata": {},
   "source": [
    "5) Crear una clase que permita utilizar las funciones creadas en la práctica del módulo 6<br>\n",
    "Verificar Primo<br>\n",
    "Valor modal<br>\n",
    "Conversión grados<br>\n",
    "Factorial<br>\n"
   ]
  },
  {
   "cell_type": "code",
   "execution_count": 43,
   "metadata": {},
   "outputs": [],
   "source": [
    "class funciones: \n",
    "    '''\n",
    "Como estamos creando una clase si o si tenemos que poner una funcion init.\n",
    "Ademas agregamos en cada funcion el parametro 'self'.   \n",
    "    '''\n",
    "    def __init__ (self) -> None:\n",
    "        pass\n",
    "    \n",
    "    def es_primo(self,x):\n",
    "        resul = True\n",
    "        for i in range (2,x):\n",
    "            if (x % i == 0):\n",
    "                resul = False\n",
    "                break\n",
    "        return resul\n",
    "\n",
    "    def repetidos (self,lista_numeros):\n",
    "        repeticiones = 0\n",
    "        for elem in lista_numeros:\n",
    "            if (lista_numeros.count(elem)>=2):\n",
    "                repeticiones = lista_numeros.count(elem)\n",
    "        return(elem,repeticiones)\n",
    "\n",
    "    def conversion (self,valor,origen,destino):\n",
    "        if (origen == 'Celsius'):\n",
    "            if (destino == 'Celsius'):\n",
    "                valor_de_destino = valor\n",
    "            elif (destino == 'Farenheit'):\n",
    "                valor_de_destino = (valor * 9)/5 + 32\n",
    "            elif (destino == 'Kelvin'):\n",
    "                valor_de_destino = valor + 273.15\n",
    "            else:\n",
    "                print(\"parametro de destino incorrecto!\")\n",
    "        elif (origen == 'Farenheit'):\n",
    "            if (destino == 'Farenheit'):\n",
    "                valor_de_destino = valor\n",
    "            elif (destino == 'Celsius'):\n",
    "                valor_de_destino = ((valor - 32) * 5) / 9\n",
    "            elif (destino == 'Kelvin'):\n",
    "                valor_de_destino = valor - 273.15\n",
    "            else:\n",
    "                print(\"parametro de destino incorrecto!\")\n",
    "        elif (origen == 'Kelvin'):\n",
    "            if (destino == 'Kelvin'):\n",
    "                valor_de_destino = valor\n",
    "            elif (destino == 'Celsius'):\n",
    "                valor_de_destino = valor - 273.15\n",
    "            elif (destino == 'Farenheit'):\n",
    "                valor_de_destino = ((valor - 273.15) * 9 / 5) + 32\n",
    "            else :\n",
    "                print(\"parametro de destino incorrecto!\")\n",
    "        else:\n",
    "            print(\"parametro de orgen incorrecto!\")\n",
    "        return valor_de_destino   \n",
    "\n",
    "    def factorial (self,x):\n",
    "        if (x < 0):\n",
    "            print(\"Parametro negativo!\")\n",
    "        elif (type(x) != int ):\n",
    "            print(\"Parametro no entero!\")\n",
    "        elif (x > 1):\n",
    "            x = x * self.factorial(x-1)\n",
    "        return x\n",
    "\n"
   ]
  },
  {
   "cell_type": "markdown",
   "metadata": {},
   "source": [
    "6) Probar las funciones incorporadas en la clase del punto 5\n"
   ]
  },
  {
   "cell_type": "code",
   "execution_count": 45,
   "metadata": {},
   "outputs": [],
   "source": [
    "iniciador = funciones() #como nuestro __init__ no tiene nada, lo guardamos\n",
    "#en un variable y la usamos para llamar a nuestras funciones."
   ]
  },
  {
   "cell_type": "code",
   "execution_count": 48,
   "metadata": {},
   "outputs": [
    {
     "data": {
      "text/plain": [
       "24"
      ]
     },
     "execution_count": 48,
     "metadata": {},
     "output_type": "execute_result"
    }
   ],
   "source": [
    "iniciador.factorial(4)\n"
   ]
  },
  {
   "cell_type": "code",
   "execution_count": 49,
   "metadata": {},
   "outputs": [
    {
     "data": {
      "text/plain": [
       "55.4"
      ]
     },
     "execution_count": 49,
     "metadata": {},
     "output_type": "execute_result"
    }
   ],
   "source": [
    "iniciador.conversion(13,'Celsius','Farenheit')\n"
   ]
  },
  {
   "cell_type": "code",
   "execution_count": 50,
   "metadata": {},
   "outputs": [
    {
     "data": {
      "text/plain": [
       "False"
      ]
     },
     "execution_count": 50,
     "metadata": {},
     "output_type": "execute_result"
    }
   ],
   "source": [
    "iniciador.es_primo(10)\n"
   ]
  },
  {
   "cell_type": "code",
   "execution_count": 51,
   "metadata": {},
   "outputs": [
    {
     "data": {
      "text/plain": [
       "(5, 2)"
      ]
     },
     "execution_count": 51,
     "metadata": {},
     "output_type": "execute_result"
    }
   ],
   "source": [
    "iniciador.repetidos([1,1,2,5,6,58,6,5])"
   ]
  },
  {
   "cell_type": "markdown",
   "metadata": {},
   "source": [
    "7) Es necesario que la clase creada en el punto 5 contenga una lista, sobre la cual se apliquen las funciones incorporadas\n"
   ]
  },
  {
   "cell_type": "code",
   "execution_count": 76,
   "metadata": {},
   "outputs": [],
   "source": [
    "class funciones: \n",
    "    def __init__ (self,lista):\n",
    "        self.lista = lista\n",
    "        \n",
    "    def es_primo_(self):\n",
    "        for i in self.lista:\n",
    "            if (self.es_primo(i)):\n",
    "                print(i,'es primo')\n",
    "            else:\n",
    "                print(i,'no es primo')\n",
    "        \n",
    "    ''' def repetidos__ (self):\n",
    "        for elem in self.lista:\n",
    "            if (repetidos(self.lista)):\n",
    "                print('el elemento',elem,'esta repetido',repeticiones,'veces') \n",
    "    '''  \n",
    "\n",
    "    def conversiones (self,origen,destino):\n",
    "        for i in self.lista:\n",
    "            print(i,'grados',origen,'son',self.conversion(i,origen,destino),'grados',destino) \n",
    "\n",
    "    def factorial__ (self):\n",
    "        for i in self.lista:\n",
    "            print('el factorial de',i,'es',self.factorial(i))\n",
    "    #ESTOS 4 METODOS LOS DEJAMOS ASI. ARRIBA CREAREMOS ESTAS MISMAS FUCNIONES PARA LISTAS. \n",
    "    def es_primo(self,x):\n",
    "        resul = True\n",
    "        for i in range (2,x):\n",
    "            if (x % i == 0):\n",
    "                resul = False\n",
    "                break\n",
    "        return resul\n",
    "\n",
    "    def repetidos (self,lista_numeros):\n",
    "        repeticiones = 0\n",
    "        for elem in lista_numeros:\n",
    "            if (lista_numeros.count(elem)>=2):\n",
    "                repeticiones = lista_numeros.count(elem)\n",
    "        return(elem,repeticiones)\n",
    "\n",
    "    def conversion (self,valor,origen,destino):\n",
    "        if (origen == 'Celsius'):\n",
    "            if (destino == 'Celsius'):\n",
    "                valor_de_destino = valor\n",
    "            elif (destino == 'Farenheit'):\n",
    "                valor_de_destino = (valor * 9)/5 + 32\n",
    "            elif (destino == 'Kelvin'):\n",
    "                valor_de_destino = valor + 273.15\n",
    "            else:\n",
    "                print(\"parametro de destino incorrecto!\")\n",
    "        elif (origen == 'Farenheit'):\n",
    "            if (destino == 'Farenheit'):\n",
    "                valor_de_destino = valor\n",
    "            elif (destino == 'Celsius'):\n",
    "                valor_de_destino = ((valor - 32) * 5) / 9\n",
    "            elif (destino == 'Kelvin'):\n",
    "                valor_de_destino = valor - 273.15\n",
    "            else:\n",
    "                print(\"parametro de destino incorrecto!\")\n",
    "        elif (origen == 'Kelvin'):\n",
    "            if (destino == 'Kelvin'):\n",
    "                valor_de_destino = valor\n",
    "            elif (destino == 'Celsius'):\n",
    "                valor_de_destino = valor - 273.15\n",
    "            elif (destino == 'Farenheit'):\n",
    "                valor_de_destino = ((valor - 273.15) * 9 / 5) + 32\n",
    "            else :\n",
    "                print(\"parametro de destino incorrecto!\")\n",
    "        else:\n",
    "            print(\"parametro de orgen incorrecto!\")\n",
    "        return valor_de_destino   \n",
    "\n",
    "    def factorial (self,x):\n",
    "        if (x < 0):\n",
    "            print(\"Parametro negativo!\")\n",
    "        elif (type(x) != int ):\n",
    "            print(\"Parametro no entero!\")\n",
    "        elif (x > 1):\n",
    "            x = x * self.factorial(x-1)\n",
    "        return x\n",
    "\n"
   ]
  },
  {
   "cell_type": "code",
   "execution_count": 77,
   "metadata": {},
   "outputs": [],
   "source": [
    "ff = funciones([1,2,5,6,2,5,54,65,58,5])"
   ]
  },
  {
   "cell_type": "code",
   "execution_count": 54,
   "metadata": {},
   "outputs": [
    {
     "name": "stdout",
     "output_type": "stream",
     "text": [
      "1 es primo\n",
      "2 es primo\n",
      "5 es primo\n",
      "6 no es primo\n",
      "2 es primo\n",
      "5 es primo\n",
      "54 no es primo\n",
      "65 no es primo\n",
      "58 no es primo\n",
      "5 es primo\n"
     ]
    }
   ],
   "source": [
    "ff.es_primo_()"
   ]
  },
  {
   "cell_type": "code",
   "execution_count": 71,
   "metadata": {},
   "outputs": [
    {
     "name": "stdout",
     "output_type": "stream",
     "text": [
      "1 grados Celsius son 274.15 grados Kelvin\n",
      "2 grados Celsius son 275.15 grados Kelvin\n",
      "5 grados Celsius son 278.15 grados Kelvin\n",
      "6 grados Celsius son 279.15 grados Kelvin\n",
      "2 grados Celsius son 275.15 grados Kelvin\n",
      "5 grados Celsius son 278.15 grados Kelvin\n",
      "54 grados Celsius son 327.15 grados Kelvin\n",
      "65 grados Celsius son 338.15 grados Kelvin\n",
      "58 grados Celsius son 331.15 grados Kelvin\n",
      "5 grados Celsius son 278.15 grados Kelvin\n"
     ]
    }
   ],
   "source": [
    "ff.conversiones('Celsius','Kelvin')"
   ]
  },
  {
   "cell_type": "code",
   "execution_count": 78,
   "metadata": {},
   "outputs": [
    {
     "name": "stdout",
     "output_type": "stream",
     "text": [
      "el factorial de 1 es 1\n",
      "el factorial de 2 es 2\n",
      "el factorial de 5 es 120\n",
      "el factorial de 6 es 720\n",
      "el factorial de 2 es 2\n",
      "el factorial de 5 es 120\n",
      "el factorial de 54 es 230843697339241380472092742683027581083278564571807941132288000000000000\n",
      "el factorial de 65 es 8247650592082470666723170306785496252186258551345437492922123134388955774976000000000000000\n",
      "el factorial de 58 es 2350561331282878571829474910515074683828862318181142924420699914240000000000000\n",
      "el factorial de 5 es 120\n"
     ]
    }
   ],
   "source": [
    "ff.factorial__()"
   ]
  },
  {
   "cell_type": "markdown",
   "metadata": {},
   "source": [
    "NOTA:\n",
    "basicamente el ejercicio constaba en usar las funciones del punto 5, dejarlas como estan! no modificarlas. Sino copiarlas y ahi si modificarlas para usarlas con listas."
   ]
  },
  {
   "cell_type": "markdown",
   "metadata": {},
   "source": [
    "8) Crear un archivo .py aparte y ubicar allí la clase generada en el punto anterior. Luego realizar la importación del módulo y probar alguna de sus funciones\n"
   ]
  },
  {
   "cell_type": "code",
   "execution_count": 80,
   "metadata": {},
   "outputs": [],
   "source": [
    "from archivo import * #el * refiere a todo lo que tengo en el archivo .py"
   ]
  },
  {
   "cell_type": "code",
   "execution_count": 82,
   "metadata": {},
   "outputs": [],
   "source": [
    "lista = funciones([2,56,9,7,92,0])"
   ]
  },
  {
   "cell_type": "code",
   "execution_count": 84,
   "metadata": {},
   "outputs": [
    {
     "name": "stdout",
     "output_type": "stream",
     "text": [
      "2 es primo\n",
      "56 no es primo\n",
      "9 no es primo\n",
      "7 es primo\n",
      "92 no es primo\n",
      "0 es primo\n"
     ]
    }
   ],
   "source": [
    "lista.es_primo_()"
   ]
  }
 ],
 "metadata": {
  "interpreter": {
   "hash": "916dbcbb3f70747c44a77c7bcd40155683ae19c65e1c03b4aa3499c5328201f1"
  },
  "kernelspec": {
   "display_name": "Python 3.8.10 64-bit",
   "language": "python",
   "name": "python3"
  },
  "language_info": {
   "codemirror_mode": {
    "name": "ipython",
    "version": 3
   },
   "file_extension": ".py",
   "mimetype": "text/x-python",
   "name": "python",
   "nbconvert_exporter": "python",
   "pygments_lexer": "ipython3",
   "version": "3.8.10"
  },
  "orig_nbformat": 4
 },
 "nbformat": 4,
 "nbformat_minor": 2
}
