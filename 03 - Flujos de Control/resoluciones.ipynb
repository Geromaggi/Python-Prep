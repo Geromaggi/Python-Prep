{
 "cells": [
  {
   "cell_type": "code",
   "execution_count": 2,
   "metadata": {},
   "outputs": [
    {
     "name": "stdout",
     "output_type": "stream",
     "text": [
      "-5 es menor que cero\n"
     ]
    }
   ],
   "source": [
    "a = -5\n",
    "if (a > 0):\n",
    "    print(a,'es mayor que cero')\n",
    "else :\n",
    "    print(a,'es menor que cero')"
   ]
  },
  {
   "cell_type": "code",
   "execution_count": 4,
   "metadata": {},
   "outputs": [
    {
     "name": "stdout",
     "output_type": "stream",
     "text": [
      "las variables NO son del mismo tipo\n"
     ]
    }
   ],
   "source": [
    "var1 = '3.8'\n",
    "var2 = 2.5\n",
    "if ((type(var1)) == (type(var2))):\n",
    "    print('las variables son del mismo tipo')\n",
    "else:\n",
    "    print('las variables NO son del mismo tipo')"
   ]
  },
  {
   "cell_type": "code",
   "execution_count": 5,
   "metadata": {},
   "outputs": [
    {
     "name": "stdout",
     "output_type": "stream",
     "text": [
      "1 es impar\n",
      "2 es par\n",
      "3 es impar\n",
      "4 es par\n",
      "5 es impar\n",
      "6 es par\n",
      "7 es impar\n",
      "8 es par\n",
      "9 es impar\n",
      "10 es par\n",
      "11 es impar\n",
      "12 es par\n",
      "13 es impar\n",
      "14 es par\n",
      "15 es impar\n",
      "16 es par\n",
      "17 es impar\n",
      "18 es par\n",
      "19 es impar\n",
      "20 es par\n"
     ]
    }
   ],
   "source": [
    "for i in range (1,21):\n",
    "    if (i%2 == 0):\n",
    "        print(i,'es par')\n",
    "    elif (i%2 != 0):\n",
    "        print(i,'es impar')\n"
   ]
  },
  {
   "cell_type": "code",
   "execution_count": 6,
   "metadata": {},
   "outputs": [
    {
     "name": "stdout",
     "output_type": "stream",
     "text": [
      "0\n",
      "1\n",
      "8\n",
      "27\n",
      "64\n",
      "125\n"
     ]
    }
   ],
   "source": [
    "for n in range (0,6):\n",
    "    print (n ** 3)\n"
   ]
  },
  {
   "cell_type": "code",
   "execution_count": 10,
   "metadata": {},
   "outputs": [
    {
     "name": "stdout",
     "output_type": "stream",
     "text": [
      "9\n"
     ]
    }
   ],
   "source": [
    "m = 10\n",
    "for i in range (1,m):\n",
    "    pass #La instrucción pass le indica al programa que ignore esa condición y \n",
    "         #continúe ejecutando el programa como de costumbre.\n",
    "         #basicamente no hace nada\n",
    "         \n",
    "print(i) "
   ]
  },
  {
   "cell_type": "markdown",
   "metadata": {},
   "source": [
    "ejercicio 6:"
   ]
  },
  {
   "cell_type": "code",
   "execution_count": 2,
   "metadata": {},
   "outputs": [
    {
     "name": "stdout",
     "output_type": "stream",
     "text": [
      "el factorial de 8 es 40320\n"
     ]
    }
   ],
   "source": [
    "a = 8\n",
    "if(type(a) == int):\n",
    "    if (a > 0):\n",
    "        a_original = a\n",
    "        factorial = a\n",
    "        while (a > 2):\n",
    "            a = a - 1\n",
    "            factorial = factorial * a\n",
    "        print('el factorial de', a_original, 'es' , factorial)\n"
   ]
  },
  {
   "cell_type": "code",
   "execution_count": 27,
   "metadata": {},
   "outputs": [
    {
     "name": "stdout",
     "output_type": "stream",
     "text": [
      "10\n"
     ]
    }
   ],
   "source": [
    "while(i > 10):\n",
    "    for i in range (1,8):\n",
    "        pass\n",
    "print(i * 2)\n"
   ]
  },
  {
   "cell_type": "code",
   "execution_count": 31,
   "metadata": {},
   "outputs": [
    {
     "name": "stdout",
     "output_type": "stream",
     "text": [
      "1\n",
      "3\n"
     ]
    }
   ],
   "source": [
    "for n in range (1,3):\n",
    "    while ( n == 2):\n",
    "        n = n + 1\n",
    "    print(n)"
   ]
  },
  {
   "cell_type": "markdown",
   "metadata": {},
   "source": [
    "9) Imprimir los números primos existentes entre 0 y 30"
   ]
  },
  {
   "cell_type": "code",
   "execution_count": 8,
   "metadata": {},
   "outputs": [
    {
     "name": "stdout",
     "output_type": "stream",
     "text": [
      "0 es primo\n",
      "1 es primo\n",
      "2 es primo\n",
      "3 es primo\n",
      "5 es primo\n",
      "7 es primo\n",
      "11 es primo\n",
      "13 es primo\n",
      "17 es primo\n",
      "19 es primo\n",
      "23 es primo\n",
      "29 es primo\n",
      "406\n"
     ]
    }
   ],
   "source": [
    "cantidad_ciclos = 0\n",
    "for i in range (0,31):\n",
    "    primo = True\n",
    "    for n in range (2,i):\n",
    "        cantidad_ciclos += 1\n",
    "        if (i%n == 0):\n",
    "            primo = False\n",
    "    if (primo):\n",
    "        print(i, 'es primo')\n",
    "print(cantidad_ciclos)"
   ]
  },
  {
   "cell_type": "code",
   "execution_count": 9,
   "metadata": {},
   "outputs": [
    {
     "name": "stdout",
     "output_type": "stream",
     "text": [
      "0 es primo\n",
      "1 es primo\n",
      "2 es primo\n",
      "3 es primo\n",
      "5 es primo\n",
      "7 es primo\n",
      "11 es primo\n",
      "13 es primo\n",
      "17 es primo\n",
      "19 es primo\n",
      "23 es primo\n",
      "29 es primo\n",
      "135\n"
     ]
    }
   ],
   "source": [
    "cantidad_cicloss = 0\n",
    "for i in range (0,31):\n",
    "    primo = True\n",
    "    for n in range (2,i):\n",
    "        cantidad_cicloss += 1\n",
    "        if (i%n == 0):\n",
    "            primo = False\n",
    "            break\n",
    "    if (primo):\n",
    "        print(i, 'es primo')\n",
    "print(cantidad_cicloss)"
   ]
  },
  {
   "cell_type": "code",
   "execution_count": 34,
   "metadata": {},
   "outputs": [
    {
     "name": "stdout",
     "output_type": "stream",
     "text": [
      "0\n",
      "1\n",
      "2\n",
      "3\n",
      "5\n",
      "7\n",
      "11\n",
      "13\n",
      "17\n",
      "19\n",
      "23\n",
      "29\n"
     ]
    }
   ],
   "source": [
    "rango_tope = 30\n",
    "n = 0\n",
    "primo = True\n",
    "while(n < rango_tope):\n",
    "    for i in range (2,n):\n",
    "        if (n % i == 0):\n",
    "            primo = False\n",
    "    if (primo):\n",
    "        print(n)\n",
    "    else:\n",
    "        primo = True    \n",
    "    n += 1"
   ]
  },
  {
   "cell_type": "code",
   "execution_count": 35,
   "metadata": {},
   "outputs": [
    {
     "name": "stdout",
     "output_type": "stream",
     "text": [
      "0\n",
      "1\n",
      "2\n",
      "3\n",
      "5\n",
      "7\n",
      "11\n",
      "13\n",
      "17\n",
      "19\n",
      "23\n",
      "29\n"
     ]
    }
   ],
   "source": [
    "rango_tope = 30\n",
    "n = 0\n",
    "primo = True\n",
    "while(n < rango_tope):\n",
    "    for i in range (2,n):\n",
    "        if (n % i == 0):\n",
    "            primo = False\n",
    "            break\n",
    "    if (primo):\n",
    "        print(n)\n",
    "    else:\n",
    "        primo = True    \n",
    "    n += 1"
   ]
  },
  {
   "cell_type": "code",
   "execution_count": 36,
   "metadata": {},
   "outputs": [
    {
     "name": "stdout",
     "output_type": "stream",
     "text": [
      "0\n",
      "1\n",
      "2\n",
      "3\n",
      "5\n",
      "7\n",
      "11\n",
      "13\n",
      "17\n",
      "19\n",
      "23\n",
      "29\n",
      "cantidad de ciclos sin usar break: 378\n"
     ]
    }
   ],
   "source": [
    "cantidad_de_ciclos_sin_break = 0\n",
    "rango_tope = 30\n",
    "n = 0\n",
    "primo = True\n",
    "while(n < rango_tope):\n",
    "    for i in range (2,n):\n",
    "        cantidad_de_ciclos_sin_break += 1\n",
    "        if (n % i == 0):\n",
    "            primo = False\n",
    "    if (primo):\n",
    "        print(n)\n",
    "    else:\n",
    "        primo = True    \n",
    "    n += 1\n",
    "print('cantidad de ciclos sin usar break:', cantidad_de_ciclos_sin_break)"
   ]
  },
  {
   "cell_type": "code",
   "execution_count": 41,
   "metadata": {},
   "outputs": [
    {
     "name": "stdout",
     "output_type": "stream",
     "text": [
      "0\n",
      "1\n",
      "2\n",
      "3\n",
      "5\n",
      "7\n",
      "11\n",
      "13\n",
      "17\n",
      "19\n",
      "23\n",
      "29\n",
      "cantidad de ciclos usando break: 134\n",
      "se optimiza un 0.3544973544973545% usando break\n"
     ]
    }
   ],
   "source": [
    "cantidad_de_ciclos_con_break = 0\n",
    "rango_tope = 30\n",
    "n = 0\n",
    "primo = True\n",
    "while(n < rango_tope):\n",
    "    for i in range (2,n):\n",
    "        cantidad_de_ciclos_con_break += 1\n",
    "        if (n % i == 0):\n",
    "            primo = False\n",
    "            break\n",
    "    if (primo):\n",
    "        print(n)\n",
    "    else:\n",
    "        primo = True    \n",
    "    n += 1\n",
    "print('cantidad de ciclos usando break:', cantidad_de_ciclos_con_break)\n",
    "print('se optimiza un ' + str(cantidad_de_ciclos_con_break/ cantidad_de_ciclos_sin_break) + '% usando break')"
   ]
  },
  {
   "cell_type": "code",
   "execution_count": 42,
   "metadata": {},
   "outputs": [
    {
     "name": "stdout",
     "output_type": "stream",
     "text": [
      "0\n",
      "1\n",
      "2\n",
      "3\n",
      "5\n",
      "7\n",
      "11\n",
      "13\n",
      "17\n",
      "19\n",
      "23\n",
      "29\n",
      "31\n",
      "37\n",
      "41\n",
      "43\n",
      "47\n",
      "53\n",
      "59\n",
      "cantidad de ciclos sin usar break: 1653\n"
     ]
    }
   ],
   "source": [
    "cantidad_de_ciclos_sin_break = 0\n",
    "rango_tope = 60\n",
    "n = 0\n",
    "primo = True\n",
    "while(n < rango_tope):\n",
    "    for i in range (2,n):\n",
    "        cantidad_de_ciclos_sin_break += 1\n",
    "        if (n % i == 0):\n",
    "            primo = False\n",
    "    if (primo):\n",
    "        print(n)\n",
    "    else:\n",
    "        primo = True    \n",
    "    n += 1\n",
    "print('cantidad de ciclos sin usar break:', cantidad_de_ciclos_sin_break)"
   ]
  },
  {
   "cell_type": "code",
   "execution_count": 43,
   "metadata": {},
   "outputs": [
    {
     "name": "stdout",
     "output_type": "stream",
     "text": [
      "0\n",
      "1\n",
      "2\n",
      "3\n",
      "5\n",
      "7\n",
      "11\n",
      "13\n",
      "17\n",
      "19\n",
      "23\n",
      "29\n",
      "31\n",
      "37\n",
      "41\n",
      "43\n",
      "47\n",
      "53\n",
      "59\n",
      "cantidad de ciclos usando break: 470\n",
      "se optimiza un 0.28433151845130067% usando break\n"
     ]
    }
   ],
   "source": [
    "cantidad_de_ciclos_con_break = 0\n",
    "rango_tope = 60\n",
    "n = 0\n",
    "primo = True\n",
    "while(n < rango_tope):\n",
    "    for i in range (2,n):\n",
    "        cantidad_de_ciclos_con_break += 1\n",
    "        if (n % i == 0):\n",
    "            primo = False\n",
    "            break\n",
    "    if (primo):\n",
    "        print(n)\n",
    "    else:\n",
    "        primo = True    \n",
    "    n += 1\n",
    "print('cantidad de ciclos usando break:', cantidad_de_ciclos_con_break)\n",
    "print('se optimiza un ' + str(cantidad_de_ciclos_con_break/ cantidad_de_ciclos_sin_break) + '% usando break')"
   ]
  },
  {
   "cell_type": "code",
   "execution_count": 50,
   "metadata": {},
   "outputs": [
    {
     "name": "stdout",
     "output_type": "stream",
     "text": [
      "108 es divisible por 12\n",
      "120 es divisible por 12\n",
      "132 es divisible por 12\n",
      "144 es divisible por 12\n",
      "156 es divisible por 12\n",
      "168 es divisible por 12\n",
      "180 es divisible por 12\n",
      "192 es divisible por 12\n",
      "204 es divisible por 12\n",
      "216 es divisible por 12\n",
      "228 es divisible por 12\n",
      "240 es divisible por 12\n",
      "252 es divisible por 12\n",
      "264 es divisible por 12\n",
      "276 es divisible por 12\n",
      "288 es divisible por 12\n",
      "300 es divisible por 12\n"
     ]
    }
   ],
   "source": [
    "i = 100\n",
    "while (i <= 300):\n",
    "    i = i + 1 #se pone antes del if!\n",
    "    if (i%12 != 0):\n",
    "        continue\n",
    "    else:\n",
    "        print(i, 'es divisible por 12')\n"
   ]
  },
  {
   "cell_type": "code",
   "execution_count": 60,
   "metadata": {},
   "outputs": [
    {
     "name": "stdout",
     "output_type": "stream",
     "text": [
      "1\n",
      "Desea ver el siguiente numero primo?\n",
      "2\n",
      "Desea ver el siguiente numero primo?\n",
      "3\n",
      "Desea ver el siguiente numero primo?\n",
      "5\n",
      "Desea ver el siguiente numero primo?\n",
      "7\n",
      "Desea ver el siguiente numero primo?\n",
      "11\n",
      "Desea ver el siguiente numero primo?\n",
      "13\n",
      "Desea ver el siguiente numero primo?\n",
      "proceso finalizado\n"
     ]
    }
   ],
   "source": [
    "sigue = 1\n",
    "n = 1\n",
    "primo = True\n",
    "while(sigue == 1):\n",
    "    for i in range (2,n):\n",
    "        if (n % i == 0):\n",
    "            primo = False\n",
    "            break\n",
    "    if (primo):\n",
    "        print(n)\n",
    "        print('Desea ver el siguiente numero primo?')\n",
    "        if (input() != '1'):\n",
    "            print('proceso finalizado')\n",
    "            break\n",
    "    else:\n",
    "        primo = True    \n",
    "    n += 1"
   ]
  },
  {
   "cell_type": "code",
   "execution_count": 61,
   "metadata": {},
   "outputs": [
    {
     "name": "stdout",
     "output_type": "stream",
     "text": [
      "el primer numero es: 102\n"
     ]
    }
   ],
   "source": [
    "i = 100\n",
    "while ( i <= 300):\n",
    "    if (i % 6 == 0):\n",
    "        print('el primer numero es:',i)\n",
    "        break #para encontrar el primero. \n",
    "    i += 1\n",
    "\n",
    "    "
   ]
  }
 ],
 "metadata": {
  "interpreter": {
   "hash": "916dbcbb3f70747c44a77c7bcd40155683ae19c65e1c03b4aa3499c5328201f1"
  },
  "kernelspec": {
   "display_name": "Python 3.8.10 64-bit",
   "language": "python",
   "name": "python3"
  },
  "language_info": {
   "codemirror_mode": {
    "name": "ipython",
    "version": 3
   },
   "file_extension": ".py",
   "mimetype": "text/x-python",
   "name": "python",
   "nbconvert_exporter": "python",
   "pygments_lexer": "ipython3",
   "version": "3.8.10"
  },
  "orig_nbformat": 4
 },
 "nbformat": 4,
 "nbformat_minor": 2
}
