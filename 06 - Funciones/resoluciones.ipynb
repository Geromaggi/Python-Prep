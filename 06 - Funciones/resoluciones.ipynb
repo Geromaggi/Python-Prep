{
 "cells": [
  {
   "cell_type": "markdown",
   "metadata": {},
   "source": [
    "1) Crear una función que reciba un número como parámetro y devuelva si True si es primo y False si no lo es\n"
   ]
  },
  {
   "cell_type": "code",
   "execution_count": 36,
   "metadata": {},
   "outputs": [],
   "source": [
    "def es_primo(x):\n",
    "    resul = True\n",
    "    for i in range (2,x):\n",
    "        if (x % i == 0):\n",
    "            resul = False\n",
    "            break\n",
    "    return resul"
   ]
  },
  {
   "cell_type": "code",
   "execution_count": 37,
   "metadata": {},
   "outputs": [
    {
     "data": {
      "text/plain": [
       "True"
      ]
     },
     "execution_count": 37,
     "metadata": {},
     "output_type": "execute_result"
    }
   ],
   "source": [
    "es_primo(5)"
   ]
  },
  {
   "cell_type": "markdown",
   "metadata": {},
   "source": [
    "2) Utilizando la función del punto 1, realizar otra función que reciba de parámetro una lista de números y devuelva sólo aquellos que son primos en otra lista\n"
   ]
  },
  {
   "cell_type": "code",
   "execution_count": 38,
   "metadata": {},
   "outputs": [],
   "source": [
    "numeros = [11,3,1,3,7,6,4,36,26,5]\n"
   ]
  },
  {
   "cell_type": "code",
   "execution_count": 39,
   "metadata": {},
   "outputs": [],
   "source": [
    "i = 0\n",
    "def primo_lista (entrada):\n",
    "    primos = []\n",
    "    for i in entrada:\n",
    "        if (es_primo(i)):\n",
    "            primos.append(i)\n",
    "    return (primos)\n"
   ]
  },
  {
   "cell_type": "code",
   "execution_count": 40,
   "metadata": {},
   "outputs": [
    {
     "data": {
      "text/plain": [
       "[11, 3, 1, 3, 7, 5]"
      ]
     },
     "execution_count": 40,
     "metadata": {},
     "output_type": "execute_result"
    }
   ],
   "source": [
    "primo_lista(numeros)"
   ]
  },
  {
   "cell_type": "markdown",
   "metadata": {},
   "source": [
    "3) Crear una función que al recibir una lista de números, devuelva el que más se repite y cuántas veces lo hace. Si hay más de un \"más repetido\", que devuelva cualquiera\n"
   ]
  },
  {
   "cell_type": "code",
   "execution_count": 7,
   "metadata": {},
   "outputs": [],
   "source": [
    "def repetidos (lista_numeros):\n",
    "    repeticiones = 0\n",
    "    for elem in lista_numeros:\n",
    "        if (lista_numeros.count(elem)>=2):\n",
    "            repeticiones = lista_numeros.count(elem)\n",
    "    return(elem,repeticiones)\n",
    "        "
   ]
  },
  {
   "cell_type": "code",
   "execution_count": 8,
   "metadata": {},
   "outputs": [
    {
     "data": {
      "text/plain": [
       "(1, 2)"
      ]
     },
     "execution_count": 8,
     "metadata": {},
     "output_type": "execute_result"
    }
   ],
   "source": [
    "repetidos([1,0,1])"
   ]
  },
  {
   "cell_type": "markdown",
   "metadata": {},
   "source": [
    "4) A la función del punto 3, agregar un parámetro más, que permita elegir si se requiere el menor o el mayor de los mas repetidos.\n"
   ]
  },
  {
   "cell_type": "code",
   "execution_count": 9,
   "metadata": {},
   "outputs": [],
   "source": [
    "def repetidos (lista_numeros,menor):\n",
    "    repeticiones = 0\n",
    "    if (menor):\n",
    "        lista_numeros.sort()\n",
    "    else: \n",
    "        lista_numeros.sort(reverse = True) #si ponemos sort(reverse=True) le decimos que nos lo ordene de mayor a menor. por defecto es false. \n",
    "    for elem in lista_numeros:\n",
    "        if (lista_numeros.count(elem)>=2):\n",
    "            repeticiones = lista_numeros.count(elem)\n",
    "    return(elem,repeticiones)\n",
    "        "
   ]
  },
  {
   "cell_type": "markdown",
   "metadata": {},
   "source": [
    "5) Crear una función que convierta entre grados Celsius, Farenheit y Kelvin<br>\n",
    "Fórmula 1\t: (°C × 9/5) + 32 = °F<br>\n",
    "Fórmula 2\t: °C + 273.15 = °K<br>\n",
    "Debe recibir 3 parámetros: el valor, la medida de orígen y la medida de destino\n"
   ]
  },
  {
   "cell_type": "code",
   "execution_count": 87,
   "metadata": {},
   "outputs": [],
   "source": [
    "def conversion (valor,origen,destino):\n",
    "    if (origen == 'Celsius'):\n",
    "        if (destino == 'Celsius'):\n",
    "            valor_de_destino = valor\n",
    "        elif (destino == 'Farenheit'):\n",
    "            valor_de_destino = (valor * 9)/5 + 32\n",
    "        elif (destino == 'Kelvin'):\n",
    "            valor_de_destino = valor + 273.15\n",
    "        else:\n",
    "            print(\"parametro de destino incorrecto!\")\n",
    "    elif (origen == 'Farenheit'):\n",
    "        if (destino == 'Farenheit'):\n",
    "            valor_de_destino = valor\n",
    "        elif (destino == 'Celsius'):\n",
    "            valor_de_destino = ((valor - 32) * 5) / 9\n",
    "        elif (destino == 'Kelvin'):\n",
    "            valor_de_destino = valor - 273.15\n",
    "        else:\n",
    "            print(\"parametro de destino incorrecto!\")\n",
    "    elif (origen == 'Kelvin'):\n",
    "        if (destino == 'Kelvin'):\n",
    "            valor_de_destino = valor\n",
    "        elif (destino == 'Celsius'):\n",
    "            valor_de_destino = valor - 273.15\n",
    "        elif (destino == 'Farenheit'):\n",
    "            valor_de_destino = ((valor - 273.15) * 9 / 5) + 32\n",
    "        else :\n",
    "            print(\"parametro de destino incorrecto!\")\n",
    "    else:\n",
    "        print(\"parametro de orgen incorrecto!\")\n",
    "    return valor_de_destino        \n",
    "    "
   ]
  },
  {
   "cell_type": "code",
   "execution_count": 91,
   "metadata": {},
   "outputs": [
    {
     "name": "stdout",
     "output_type": "stream",
     "text": [
      "35.6\n"
     ]
    }
   ],
   "source": [
    "x = conversion(2,'Celsius','Farenheit')\n",
    "print(x)"
   ]
  },
  {
   "cell_type": "markdown",
   "metadata": {},
   "source": [
    "6) Iterando una lista con los tres valores posibles de temperatura que recibe la función del punto 5, hacer un print para cada combinación de los mismos:\n"
   ]
  },
  {
   "cell_type": "code",
   "execution_count": 97,
   "metadata": {},
   "outputs": [
    {
     "name": "stdout",
     "output_type": "stream",
     "text": [
      "1 grado en Celsius son :  1 grados en Celsius\n",
      "1 grado en Celsius son :  33.8 grados en Farenheit\n",
      "1 grado en Celsius son :  274.15 grados en Kelvin\n",
      "1 grado en Farenheit son :  -17.22222222222222 grados en Celsius\n",
      "1 grado en Farenheit son :  1 grados en Farenheit\n",
      "1 grado en Farenheit son :  -272.15 grados en Kelvin\n",
      "1 grado en Kelvin son :  -272.15 grados en Celsius\n",
      "1 grado en Kelvin son :  -457.87 grados en Farenheit\n",
      "1 grado en Kelvin son :  1 grados en Kelvin\n"
     ]
    }
   ],
   "source": [
    "temperaturas = [\"Celsius\",\"Farenheit\",\"Kelvin\"]\n",
    "for i in range (0,3):\n",
    "    for j in range (0,3):\n",
    "        print('1 grado en', temperaturas[i], 'son : ', conversion(1,temperaturas[i],temperaturas[j]),'grados en',temperaturas[j])"
   ]
  },
  {
   "cell_type": "markdown",
   "metadata": {},
   "source": [
    "7) Armar una función que devuelva el factorial de un número. Tener en cuenta que el usuario puede equivocarse y enviar de parámetro un número no entero o negativo\n"
   ]
  },
  {
   "cell_type": "code",
   "execution_count": 27,
   "metadata": {},
   "outputs": [],
   "source": [
    "def factorial (x):\n",
    "    if (x < 0):\n",
    "        print(\"Parametro negativo!\")\n",
    "    elif (type(x) != int ):\n",
    "        print(\"Parametro no entero!\")\n",
    "    elif (x > 1):\n",
    "        x = x * factorial(x-1)\n",
    "    return x"
   ]
  },
  {
   "cell_type": "code",
   "execution_count": 28,
   "metadata": {},
   "outputs": [
    {
     "data": {
      "text/plain": [
       "120"
      ]
     },
     "execution_count": 28,
     "metadata": {},
     "output_type": "execute_result"
    }
   ],
   "source": [
    "factorial(5)"
   ]
  }
 ],
 "metadata": {
  "interpreter": {
   "hash": "916dbcbb3f70747c44a77c7bcd40155683ae19c65e1c03b4aa3499c5328201f1"
  },
  "kernelspec": {
   "display_name": "Python 3.8.10 64-bit",
   "language": "python",
   "name": "python3"
  },
  "language_info": {
   "codemirror_mode": {
    "name": "ipython",
    "version": 3
   },
   "file_extension": ".py",
   "mimetype": "text/x-python",
   "name": "python",
   "nbconvert_exporter": "python",
   "pygments_lexer": "ipython3",
   "version": "3.8.10"
  },
  "orig_nbformat": 4
 },
 "nbformat": 4,
 "nbformat_minor": 2
}
